{
 "cells": [
  {
   "cell_type": "code",
   "execution_count": 1,
   "id": "41866e52-d4f8-49d5-aa5d-d0f9e0a8b5fa",
   "metadata": {},
   "outputs": [
    {
     "data": {
      "text/plain": [
       "True"
      ]
     },
     "execution_count": 1,
     "metadata": {},
     "output_type": "execute_result"
    }
   ],
   "source": [
    "import pandas as pd\n",
    "import nltk\n",
    "from nltk.tokenize import word_tokenize\n",
    "from nltk.corpus import stopwords\n",
    "from nltk.corpus import wordnet as wn\n",
    "\n",
    "from sklearn.feature_extraction.text import TfidfVectorizer\n",
    "from sklearn.linear_model import LogisticRegression\n",
    "from sklearn.pipeline import Pipeline\n",
    "import random\n",
    "import dill\n",
    "\n",
    "nltk.download('punkt', quiet=True)\n",
    "nltk.download('stopwords', quiet=True)"
   ]
  },
  {
   "cell_type": "code",
   "execution_count": 2,
   "id": "4d69b646",
   "metadata": {},
   "outputs": [
    {
     "name": "stdout",
     "output_type": "stream",
     "text": [
      "(128, 3)\n",
      "                                            question                  intent  \\\n",
      "0  What are the admission requirements for underg...  admission_requirements   \n",
      "1                 How can I apply for a scholarship?        scholarship_info   \n",
      "2  What is the application deadline for the fall ...    application_deadline   \n",
      "3                        Do you offer financial aid?           financial_aid   \n",
      "4                                Can I apply online?     application_process   \n",
      "5             Are there any entrance exams required?           entrance_exam   \n",
      "6  What documents are needed for international st...  international_students   \n",
      "7                       Is there an application fee?         application_fee   \n",
      "8       How do I check the status of my application?      application_status   \n",
      "9                          Can I defer my admission?      admission_deferral   \n",
      "\n",
      "                                            response  \n",
      "0  The admission requirements for undergraduate p...  \n",
      "1  You can apply for scholarships by filling out ...  \n",
      "2  The application deadline for the fall semester...  \n",
      "3  Yes, we offer financial aid to eligible studen...  \n",
      "4  Yes, you can apply online through our official...  \n",
      "5  Some programs require entrance exams. Please c...  \n",
      "6  International students need to submit their pa...  \n",
      "7  Yes, there is a non-refundable application fee...  \n",
      "8  You can check your application status by loggi...  \n",
      "9  Yes, admission deferral is possible under cert...  \n"
     ]
    }
   ],
   "source": [
    "df = pd.read_csv('dataset_faq_final.csv')\n",
    "print(df.shape)  \n",
    "print(df.head(10))  "
   ]
  },
  {
   "cell_type": "code",
   "execution_count": 3,
   "id": "710f77a7",
   "metadata": {},
   "outputs": [
    {
     "name": "stdout",
     "output_type": "stream",
     "text": [
      "\n",
      "Unique intent:\n",
      "['admission_requirements' 'scholarship_info' 'application_deadline'\n",
      " 'financial_aid' 'application_process' 'entrance_exam'\n",
      " 'international_students' 'application_fee' 'application_status'\n",
      " 'admission_deferral' 'programs_offered' 'admission_process_time'\n",
      " 'campus_tours' 'housing' 'gpa_requirement' 'transfer_credits'\n",
      " 'orientation' 'refund_policy' 'part_time_study' 'contact_info'\n",
      " 'late_application' 'online_courses' 'language_instruction'\n",
      " 'age_restrictions' 'multiple_programs' 'student_faculty_ratio'\n",
      " 'visa_assistance' 'extracurricular_activities' 'scholarship_deadline'\n",
      " 'transcript_submission' 'course_withdrawal' 'international_programs'\n",
      " 'program_change' 'tuition_fees' 'internships' 'academic_probation'\n",
      " 'language_proficiency' 'housing_application' 'student_support'\n",
      " 'dress_code' 'credit_load' 'exchange_programs' 'student_id'\n",
      " 'attendance_policy' 'program_withdrawal_refund' 'library_hours'\n",
      " 'evening_classes' 'lab_fees' 'disability_services'\n",
      " 'cross_department_courses' 'plagiarism_policy' 'summer_programs'\n",
      " 'update_contact_info' 'graduation_application' 'student_discounts'\n",
      " 'leave_of_absence' 'counseling_services' 'course_registration'\n",
      " 'course_prerequisites' 'course_retake' 'academic_integrity'\n",
      " 'student_organizations' 'visa_application' 'language_courses'\n",
      " 'grading_policy' 'research_opportunities' 'leave_application'\n",
      " 'health_services' 'student_conduct' 'academic_advising' 'career_services'\n",
      " 'grade_appeal' 'tutoring_services' 'course_audit' 'study_abroad'\n",
      " 'student_privacy' 'technology_resources' 'makeup_exams'\n",
      " 'workshops_seminars' 'change_major' 'evening_study_spaces'\n",
      " 'student_loans' 'alumni_services' 'campus_safety' 'resume_help'\n",
      " 'academic_awards' 'withdrawal_procedure' 'course_evaluations'\n",
      " 'veteran_support' 'student_feedback' 'visa_extension' 'parking_permits'\n",
      " 'harassment_reporting' 'campus_facilities' 'transcript_request'\n",
      " 'student_employment' 'visa_interview' 'academic_calendar'\n",
      " 'id_replacement' 'campus_events' 'transcript_evaluation'\n",
      " 'health_insurance' 'parking_permit_application' 'advising_appointments'\n",
      " 'study_permit_application' 'conduct_hearings' 'transcript_correction'\n",
      " 'organizations_funding' 'graduation_ceremony_application'\n",
      " 'parking_violations' 'visa_renewal' 'campus_accessibility'\n",
      " 'exchange_program_application' 'disciplinary_actions'\n",
      " 'student_loan_application' 'housing_contracts' 'student_id_application'\n",
      " 'attendance_appeals' 'student_transcript_application' 'probation_appeals'\n",
      " 'student_visa_application' 'academic_dismissal' 'scholarship_application'\n",
      " 'academic_honors' 'student_transfer_application' 'academic_appeals'\n",
      " 'student_withdrawal_application']\n"
     ]
    }
   ],
   "source": [
    "print(\"\\nUnique intent:\")\n",
    "print(df['intent'].unique())"
   ]
  },
  {
   "cell_type": "code",
   "execution_count": 4,
   "id": "8912e884",
   "metadata": {},
   "outputs": [],
   "source": [
    "intent_list = df['intent'].unique().tolist()"
   ]
  },
  {
   "cell_type": "code",
   "execution_count": 5,
   "id": "ede980c8",
   "metadata": {},
   "outputs": [
    {
     "name": "stderr",
     "output_type": "stream",
     "text": [
      "[nltk_data] Downloading package wordnet to\n",
      "[nltk_data]     C:\\Users\\sampa\\AppData\\Roaming\\nltk_data...\n",
      "[nltk_data]   Package wordnet is already up-to-date!\n"
     ]
    }
   ],
   "source": [
    "nltk.download('wordnet')\n",
    "\n",
    "def generate_keywords(intent_names):\n",
    "    keywords_mapping = {}\n",
    "\n",
    "    for intent in intent_names:\n",
    "        words = intent.split('_')\n",
    "        synonyms = set()\n",
    "\n",
    "        for word in words:\n",
    "            for syn in wn.synsets(word):\n",
    "                for lemma in syn.lemmas():\n",
    "                    lemma_name = lemma.name().replace('_', ' ')\n",
    "                    if lemma_name.lower() not in words and len(lemma_name.split()) < 4:\n",
    "                        synonyms.add(lemma_name.lower())\n",
    "\n",
    "        keywords_mapping[intent] = list(set(words + list(synonyms)))\n",
    "\n",
    "\n",
    "\n",
    "    return keywords_mapping"
   ]
  },
  {
   "cell_type": "code",
   "execution_count": 6,
   "id": "a050294a-5064-4d17-a086-447c2d558b7b",
   "metadata": {},
   "outputs": [],
   "source": [
    "class AdmissionChatbot:\n",
    "    def __init__(self, dataset_path='dataset_faq_final.csv'):\n",
    "        self.df = pd.read_csv(dataset_path)\n",
    "        self.responses = self.df.groupby('intent')['response'].apply(list).to_dict()\n",
    "        self.stop_words = set(stopwords.words('english'))\n",
    "\n",
    "        self.vectorizer = TfidfVectorizer()\n",
    "        self.classifier = LogisticRegression(max_iter=1000)\n",
    "        self.pipeline = Pipeline([\n",
    "            ('tfidf', self.vectorizer),\n",
    "            ('clf', self.classifier)\n",
    "        ])\n",
    "        self.train_model()\n",
    "\n",
    "        # Rule-based keyword-intent mapping\n",
    "        self.keywords_mapping = generate_keywords(intent_list)\n",
    "        print(\"Generated keywords mapping:\", self.keywords_mapping)\n",
    "\n",
    "    \n",
    "    def preprocess(self, sentence):\n",
    "        tokens = word_tokenize(sentence.lower())\n",
    "        filtered_words = [word for word in tokens if word not in self.stop_words and word.isalnum()]\n",
    "        return ' '.join(filtered_words)\n",
    "\n",
    "    def train_model(self):\n",
    "        questions = self.df['question'].apply(self.preprocess)\n",
    "        labels = self.df['intent']\n",
    "        self.pipeline.fit(questions, labels)\n",
    "\n",
    "    def predict_intent(self, query):\n",
    "        cleaned_input = self.preprocess(query)\n",
    "        predicted_intent = self.pipeline.predict([cleaned_input])[0]\n",
    "        return predicted_intent\n",
    "\n",
    "    def get_intent_by_rule(self, query):\n",
    "        query_lower = query.lower()\n",
    "        for intent_key, keyword_list in self.keywords_mapping.items():\n",
    "            if any(keyword in query_lower for keyword in keyword_list):\n",
    "                return intent_key\n",
    "        return None\n",
    "\n",
    "    def get_response(self, query):\n",
    "        # try model-based prediction\n",
    "        predicted_intent = self.predict_intent(query)\n",
    "        if predicted_intent in self.responses:\n",
    "            return random.choice(self.responses[predicted_intent])\n",
    "\n",
    "        # If model fails, then rule-based fallback\n",
    "        rule_based_intent = self.get_intent_by_rule(query)\n",
    "        if rule_based_intent and rule_based_intent in self.responses:\n",
    "            return random.choice(self.responses[rule_based_intent])\n",
    "\n",
    "        # Final \n",
    "        return \"I'm sorry, I don't have an answer for that.\"\n"
   ]
  },
  {
   "cell_type": "code",
   "execution_count": 7,
   "id": "38e99ead-574e-4112-b57f-37c2df8d7fee",
   "metadata": {},
   "outputs": [
    {
     "name": "stdout",
     "output_type": "stream",
     "text": [
      "Generated keywords mapping: {'admission_requirements': ['entrance money', 'entrance fee', 'necessary', 'admission', 'necessity', 'admission price', 'entree', 'requisite', 'accession', 'demand', 'admission charge', 'admission fee', 'price of admission', 'admittance', 'access', 'requirements', 'requirement', 'prerequisite', 'essential'], 'scholarship_info': ['learning', 'scholarship', 'erudition', 'information', 'learnedness', 'encyclopaedism', 'eruditeness', 'encyclopedism', 'info'], 'application_deadline': ['deadline', 'application', 'application program', 'diligence', 'practical application', 'covering', 'coating', 'applications programme', 'lotion'], 'financial_aid': ['attention', 'tending', 'help', 'economic aid', 'assist', 'fiscal', 'assistance', 'financial', 'financial aid', 'care', 'aid'], 'application_process': ['cognitive operation', 'diligence', 'coating', 'outgrowth', 'march', 'lotion', 'unconscious process', 'procedure', 'treat', 'work on', 'applications programme', 'process', 'application program', 'appendage', 'litigate', 'physical process', 'swear out', 'application', 'practical application', 'sue', 'operation', 'summons', 'covering', 'action', 'serve', 'work', 'mental process', 'cognitive process'], 'entrance_exam': ['entry', 'enamour', 'catch', 'entree', 'enamor', 'ingress', 'test', 'entering', 'bewitch', 'entrance', 'fascinate', 'beguile', 'capture', 'captivate', 'trance', 'entryway', 'exam', 'charm', 'becharm', 'entranceway', 'examination', 'enchant', 'incoming', 'spellbind'], 'international_students': ['international', 'scholar', 'scholarly person', 'external', 'students', 'student', 'outside', 'bookman', 'pupil', 'educatee'], 'application_fee': ['tip', 'application', 'application program', 'practical application', 'diligence', 'covering', 'coating', 'applications programme', 'fee', 'bung', 'lotion'], 'application_status': ['application', 'application program', 'practical application', 'diligence', 'condition', 'covering', 'coating', 'position', 'applications programme', 'status', 'lotion'], 'admission_deferral': ['accession', 'deferral', 'entrance money', 'entrance fee', 'price of admission', 'admission', 'admittance', 'admission charge', 'deferment', 'admission price', 'admission fee', 'entree', 'postponement', 'recess', 'access'], 'programs_offered': ['propose', 'computer program', 'programs', 'course of study', 'programme', 'declare oneself', 'broadcast', 'put up', 'political platform', 'proffer', 'syllabus', 'political program', 'bid', 'extend', 'provide', 'tender', 'pop the question', 'platform', 'program', 'plan', 'offered', 'volunteer', 'computer programme', 'curriculum', 'offer', 'offer up'], 'admission_process_time': ['cognitive operation', 'entrance money', 'entrance fee', 'admission', 'outgrowth', 'admission price', 'march', 'clip', 'entree', 'accession', 'clock time', 'unconscious process', 'procedure', 'treat', 'work on', 'admission charge', 'admission fee', 'process', 'appendage', 'litigate', 'physical process', 'swear out', 'meter', 'price of admission', 'admittance', 'metre', 'sue', 'time', 'access', 'operation', 'fourth dimension', 'summons', 'clock', 'action', 'serve', 'work', 'mental process', 'sentence', 'prison term', 'cognitive process'], 'campus_tours': ['duty tour', 'term of enlistment', 'spell', 'turn', 'campus', 'go', 'circuit', 'tours', 'tour', 'hitch', 'tour of duty', 'enlistment'], 'housing': ['trapping', 'lodging', 'caparison', 'domiciliate', 'housing', 'put up', 'living accommodations', 'house'], 'gpa_requirement': ['demand', 'prerequisite', 'grade point average', 'essential', 'necessary', 'necessity', 'requisite', 'gpa', 'requirement'], 'transfer_credits': ['credit', 'change', 'transportation', 'citation', 'transfer', 'carry-over', 'mention', 'recognition', 'transplant', 'shift', 'reassign', 'deferred payment', 'channel', 'channelize', 'credits', 'transferral', 'transpose', 'reference', 'credit entry', 'acknowledgment', 'transport', 'quotation', 'transference', 'conveyance', 'credit rating', 'accredit', 'channelise', 'remove', 'transfer of training', 'cite', 'course credit', 'transmit', 'transferee'], 'orientation': ['predilection', 'orientation', 'orientation course', 'preference'], 'refund_policy': ['refund', 'repay', 'policy', 'give back', 'insurance policy', 'return', 'insurance', 'repayment'], 'part_time_study': ['field', 'examine', 'voice', 'divide', 'component part', 'piece', 'split', 'set forth', 'contribution', 'discipline', 'subject field', 'start out', 'analyse', 'clip', 'hit the books', 'subject area', 'break up', 'subject', 'role', 'take off', 'meditate', 'theatrical role', 'depart', 'clock time', 'read', 'separate', 'function', 'region', 'office', 'division', 'break', 'split up', 'partly', 'survey', 'written report', 'canvas', 'learn', 'meter', 'canvass', 'disunite', 'set out', 'metre', 'character', 'time', 'parting', 'part', 'partially', 'portion', 'take', 'constituent', 'fourth dimension', 'bailiwick', 'sketch', 'start', 'percentage', 'analyze', 'clock', 'persona', 'share', 'report', 'set off', 'study', 'consider', 'field of study', 'work', 'component', 'section', 'sentence', 'contemplate', 'cogitation', 'prison term'], 'contact_info': ['contact lens', 'get hold of', 'middleman', 'impinging', 'reach', 'information', 'striking', 'adjoin', 'physical contact', 'tangency', 'liaison', 'touch', 'get through', 'contact', 'link', 'inter-group communication', 'info', 'meet'], 'late_application': ['diligence', 'belated', 'coating', 'lotion', 'previous', 'belatedly', 'applications programme', 'application program', 'recent', 'latterly', 'application', 'practical application', 'tardy', 'recently', 'of late', 'lately', 'later', 'covering', 'tardily', 'former', 'deep', 'late'], 'online_courses': ['class', 'run', 'line', 'online', 'course of study', 'courses', 'path', 'course of instruction', 'course of action', 'form', 'row', 'grade', 'flow', 'feed', 'trend', 'on-line', 'track', 'course'], 'language_instruction': ['voice communication', 'education', 'language', 'spoken communication', 'linguistic communication', 'terminology', 'educational activity', 'didactics', 'linguistic process', 'nomenclature', 'spoken language', 'lyric', 'speech communication', 'speech', 'oral communication', 'statement', 'command', 'pedagogy', 'teaching', 'program line', 'direction', 'instruction', 'words'], 'age_restrictions': ['years', 'long time', 'senesce', 'get on', 'limitation', 'maturate', 'confinement', 'old age', 'restriction', 'historic period', 'eld', 'age', 'geezerhood', 'restrictions', 'mature'], 'multiple_programs': ['computer program', 'multiple', 'programme', 'programs', 'platform', 'broadcast', 'course of study', 'political platform', 'plan', 'program', 'computer programme', 'curriculum', 'political program', 'syllabus'], 'student_faculty_ratio': ['scholar', 'scholarly person', 'module', 'student', 'ratio', 'mental faculty', 'bookman', 'staff', 'pupil', 'educatee', 'proportion', 'faculty'], 'visa_assistance': ['help', 'assist', 'assistance', 'visa', 'aid'], 'extracurricular_activities': ['adulterous', 'extramarital', 'activeness', 'bodily process', 'body process', 'bodily function', 'action', 'extracurricular', 'natural process', 'natural action', 'activity', 'activities'], 'scholarship_deadline': ['deadline', 'learning', 'scholarship', 'erudition', 'learnedness', 'encyclopaedism', 'eruditeness', 'encyclopedism'], 'transcript_submission': ['transcript', 'compliance', 'entry', 'copy', 'submission', 'meekness'], 'course_withdrawal': ['line', 'course of study', 'path', 'withdrawal', 'flow', 'feed', 'pulling out', 'course of instruction', 'of course', 'onanism', 'withdrawal method', 'track', 'trend', 'course', 'detachment', 'class', 'run', 'secession', 'grade', 'climb-down', 'naturally', 'coitus interruptus', 'backdown', 'drug withdrawal', 'course of action', 'form', 'row'], 'international_programs': ['international', 'computer program', 'programs', 'programme', 'external', 'broadcast', 'platform', 'outside', 'political platform', 'course of study', 'plan', 'program', 'computer programme', 'curriculum', 'political program', 'syllabus'], 'program_change': ['modify', 'computer program', 'vary', 'course of study', 'switch', 'change', 'transfer', 'alteration', 'programme', 'broadcast', 'shift', 'political platform', 'commute', 'syllabus', 'interchange', 'political program', 'convert', 'modification', 'platform', 'deepen', 'program', 'plan', 'alter', 'variety', 'computer programme', 'curriculum', 'exchange'], 'tuition_fees': ['fees', 'tip', 'tutelage', 'fee', 'tutorship', 'tuition', 'bung', 'tuition fee'], 'internships': ['internships', 'internship'], 'academic_probation': ['pedantic', 'academic', 'probation', 'faculty member', 'academician', 'donnish'], 'language_proficiency': ['language', 'linguistic process', 'spoken communication', 'spoken language', 'nomenclature', 'linguistic communication', 'technique', 'voice communication', 'lyric', 'terminology', 'speech communication', 'proficiency', 'speech', 'words', 'oral communication'], 'housing_application': ['trapping', 'lodging', 'application', 'caparison', 'domiciliate', 'practical application', 'diligence', 'application program', 'covering', 'housing', 'put up', 'coating', 'living accommodations', 'applications programme', 'lotion', 'house'], 'student_support': ['affirm', 'plump for', 'keep going', 'livelihood', 'keep', 'reinforcement', 'underpin', 'endure', 'student', 'sustenance', 'back', 'supporting', 'patronage', 'reenforcement', 'confirm', 'stick out', 'back up', 'financial support', 'corroborate', 'stand', 'stomach', 'tolerate', 'scholarly person', 'suffer', 'bear out', 'support', 'put up', 'sustain', 'fend for', 'plunk for', 'patronise', 'documentation', 'subscribe', 'bread and butter', 'endorse', 'substantiate', 'bear', 'accompaniment', 'pupil', 'defend', 'indorse', 'musical accompaniment', 'scholar', 'funding', 'living', 'financial backing', 'digest', 'backup', 'hold up', 'bookman', 'abide', 'backing', 'educatee', 'patronize', 'brook', 'hold'], 'dress_code': ['write in code', 'crop', 'coif', 'tog', 'encrypt', 'clip', 'cipher', 'clothe', 'line up', 'code', 'garb', 'habilitate', 'groom', 'set', 'cypher', 'frock', 'coiffure', 'trim', 'inscribe', 'do', 'computer code', 'plume', 'dress up', 'curry', 'apparel', 'dress', 'raiment', 'decorate', 'primp', 'garment', 'codification', 'get dressed', 'fit out', 'clothes', 'snip', 'attire', 'lop', 'wearing apparel', 'arrange', 'full-dress', 'prune', 'garnish', 'dress out', 'preen', 'cut back', 'coiffe', 'enclothe', 'encipher'], 'credit_load': ['charge', 'cargo', 'credit', 'shipment', 'lade', 'stretch', 'payload', 'lading', 'onus', 'citation', 'encumbrance', 'load', 'burden', 'consignment', 'adulterate', 'mention', 'recognition', 'deferred payment', 'laden', 'loading', 'debase', 'lode', 'reference', 'credit entry', 'acknowledgment', 'quotation', 'load up', 'credit rating', 'accredit', 'incumbrance', 'warhead', 'freight', 'dilute', 'cite', 'course credit'], 'exchange_programs': ['central', 'computer program', 'programs', 'course of study', 'switch', 'change', 'replace', 'substitution', 'rally', 'programme', 'broadcast', 'political platform', 'commute', 'syllabus', 'political program', 'interchange', 'convert', 'platform', 'program', 'plan', 'switch over', 'telephone exchange', 'commutation', 'computer programme', 'curriculum', 'substitute', 'exchange'], 'student_id': ['idaho', 'scholar', 'i.d.', 'scholarly person', 'student', 'gem state', 'bookman', 'pupil', 'educatee', 'id'], 'attendance_policy': ['attending', 'policy', 'insurance policy', 'attendance', 'insurance'], 'program_withdrawal_refund': ['computer program', 'give back', 'course of study', 'withdrawal', 'pulling out', 'repay', 'programme', 'onanism', 'broadcast', 'political platform', 'withdrawal method', 'syllabus', 'political program', 'refund', 'detachment', 'platform', 'secession', 'return', 'program', 'plan', 'climb-down', 'coitus interruptus', 'backdown', 'drug withdrawal', 'computer programme', 'curriculum', 'repayment'], 'library_hours': ['hours', 'library', '60 minutes', 'hour', 'hr', 'minute', 'subroutine library', 'program library', 'time of day', 'depository library'], 'evening_classes': ['year', 'assort', 'eventide', 'course of study', 'sort out', 'course of instruction', 'separate', 'division', 'course', 'social class', 'evening', 'class', 'classes', 'flush', 'category', 'grade', 'classify', 'level', 'even', 'family', 'eve', 'stratum', 'sort', 'form', 'even out', 'socio-economic class'], 'lab_fees': ['fees', 'science laboratory', 'tip', 'research lab', 'research laboratory', 'laboratory', 'fee', 'lab', 'bung', 'science lab'], 'disability_services': ['inspection and repair', 'service of process', 'disablement', 'table service', 'avail', 'service', 'overhaul', 'services', 'impairment', 'divine service', 'serving', 'help', 'military service', 'disability', 'handicap', 'armed service', 'robert william service', 'religious service', 'serve', 'servicing'], 'cross_department_courses': ['queer', 'cut through', 'cross', 'get across', 'bilk', 'transverse', 'line', 'course of study', 'path', 'traverse', 'scotch', 'flow', 'spoil', 'crabby', 'feed', 'crossbreed', 'course of instruction', 'pass over', 'interbreeding', 'span', 'thwartwise', 'hybrid', 'baffle', 'crisscross', 'hybridise', 'grumpy', 'grouchy', 'mark', 'track', 'course', 'foil', 'trend', 'hybridizing', 'ill-tempered', 'class', 'department', 'crossing', 'run', 'courses', 'hybridization', 'sweep', 'cover', 'interbreed', 'grade', 'bad-tempered', 'transversal', 'fussy', 'crabbed', 'get over', 'thwart', 'intersect', 'cut across', 'hybridize', 'course of action', 'form', 'row', 'frustrate', 'section', 'crossbreeding', 'hybridisation', 'crown of thorns'], 'plagiarism_policy': ['piracy', 'policy', 'plagiarism', 'insurance policy', 'plagiarisation', 'plagiarization', 'insurance'], 'summer_programs': ['computer program', 'programs', 'programme', 'summertime', 'broadcast', 'platform', 'course of study', 'political platform', 'plan', 'summer', 'program', 'computer programme', 'curriculum', 'political program', 'syllabus'], 'update_contact_info': ['contact lens', 'update', 'touch', 'contact', 'get hold of', 'reach', 'impinging', 'information', 'striking', 'get through', 'link', 'adjoin', 'tangency', 'meet', 'middleman', 'physical contact', 'liaison', 'inter-group communication', 'info'], 'graduation_application': ['application', 'diligence', 'practical application', 'commencement exercise', 'commencement ceremony', 'coating', 'commencement', 'covering', 'applications programme', 'graduation exercise', 'lotion', 'graduation', 'application program', 'gradation'], 'student_discounts': ['student', 'bank discount', 'disregard', 'scholarly person', 'brush aside', 'price reduction', 'dismiss', 'rebate', 'discount', 'pupil', 'discount rate', 'scholar', 'brush off', 'discounts', 'bookman', 'push aside', 'deduction', 'educatee', 'ignore'], 'leave_of_absence': ['give', 'leave-taking', 'go out', 'leave of absence', 'go forth', 'allow for', 'bequeath', 'entrust', 'forget', 'get out', 'lead', 'leave', 'depart', 'absence', 'allow', 'of', 'will', 'go away', 'result', 'provide', 'parting', 'absence seizure', 'exit', 'leave behind', 'impart', 'leave alone', 'pull up stakes', 'farewell', 'pass on'], 'counseling_services': ['inspection and repair', 'counsel', 'guidance', 'counselling', 'service of process', 'table service', 'avail', 'service', 'overhaul', 'counseling', 'services', 'divine service', 'serving', 'help', 'military service', 'advise', 'armed service', 'robert william service', 'rede', 'religious service', 'serve', 'direction', 'servicing'], 'course_registration': ['registration', 'line', 'course of study', 'path', 'flow', 'feed', 'course of instruction', 'of course', 'readjustment', 'enrolment', 'track', 'trend', 'course', 'class', 'run', 'enrollment', 'grade', 'naturally', 'adjustment', 'course of action', 'form', 'row'], 'course_prerequisites': ['prerequisites', 'line', 'course of study', 'path', 'flow', 'feed', 'course of instruction', 'of course', 'course', 'trend', 'track', 'class', 'run', 'grade', 'requirement', 'prerequisite', 'naturally', 'course of action', 'form', 'row'], 'course_retake': ['line', 'course of study', 'path', 'flow', 'feed', 'course of instruction', 'of course', 'recapture', 'course', 'trend', 'track', 'class', 'run', 'grade', 'naturally', 'retake', 'course of action', 'form', 'row'], 'academic_integrity': ['wholeness', 'integrity', 'pedantic', 'academic', 'unity', 'faculty member', 'academician', 'donnish'], 'student_organizations': ['organisation', 'arrangement', 'governance', 'formation', 'scholar', 'organization', 'scholarly person', 'student', 'constitution', 'governing body', 'organizations', 'bookman', 'system', 'pupil', 'educatee', 'establishment', 'administration', 'brass'], 'visa_application': ['application', 'application program', 'diligence', 'practical application', 'covering', 'coating', 'applications programme', 'visa', 'lotion'], 'language_courses': ['voice communication', 'line', 'course of study', 'path', 'flow', 'feed', 'course of instruction', 'language', 'spoken communication', 'linguistic communication', 'terminology', 'track', 'course', 'trend', 'class', 'linguistic process', 'nomenclature', 'spoken language', 'run', 'lyric', 'courses', 'speech communication', 'grade', 'speech', 'oral communication', 'course of action', 'form', 'row', 'words'], 'grading_policy': ['policy', 'scaling', 'order', 'rate', 'score', 'scoring', 'leveling', 'grading', 'rank', 'insurance policy', 'grade', 'marking', 'range', 'mark', 'insurance', 'place'], 'research_opportunities': ['enquiry', 'explore', 'search', 'chance', 'opportunity', 'opportunities', 'research', 'inquiry'], 'leave_application': ['give', 'leave-taking', 'go out', 'leave of absence', 'diligence', 'go forth', 'allow for', 'bequeath', 'entrust', 'coating', 'forget', 'lotion', 'get out', 'lead', 'leave', 'depart', 'allow', 'will', 'applications programme', 'go away', 'application program', 'application', 'result', 'practical application', 'provide', 'parting', 'exit', 'leave behind', 'impart', 'leave alone', 'pull up stakes', 'farewell', 'covering', 'pass on'], 'health_services': ['service of process', 'serving', 'robert william service', 'table service', 'help', 'health', 'military service', 'avail', 'service', 'services', 'overhaul', 'armed service', 'religious service', 'serve', 'divine service', 'servicing', 'inspection and repair', 'wellness'], 'student_conduct': ['student', 'carry', 'demeanour', 'behavior', 'lead', 'carry on', 'scholarly person', 'behaviour', 'deal', 'channel', 'guide', 'demeanor', 'acquit', 'deport', 'bear', 'pupil', 'take', 'impart', 'scholar', 'conduct', 'behave', 'doings', 'deportment', 'bookman', 'direct', 'convey', 'educatee', 'transmit', 'comport'], 'academic_advising': ['propose', 'donnish', 'pedantic', 'counsel', 'rede', 'suggest', 'send word', 'advise', 'academic', 'advising', 'academician', 'faculty member', 'give notice', 'notify', 'apprise', 'apprize'], 'career_services': ['inspection and repair', 'service of process', 'table service', 'avail', 'service', 'overhaul', 'services', 'life history', 'divine service', 'vocation', 'serving', 'help', 'military service', 'armed service', 'robert william service', 'calling', 'religious service', 'serve', 'career', 'servicing'], 'grade_appeal': ['prayer', 'ingathering', 'attract', 'degree', 'ground level', 'tier', 'entreaty', 'appealingness', 'collection', 'mark', 'rate', 'course', 'class', 'solicitation', 'grade', 'grad', 'level', 'gradation', 'charm', 'order', 'score', 'rank', 'appeal', 'form', 'invoke', 'range', 'place'], 'tutoring_services': ['service of process', 'serving', 'robert william service', 'table service', 'help', 'military service', 'avail', 'service', 'overhaul', 'services', 'inspection and repair', 'tutor', 'religious service', 'serve', 'divine service', 'servicing', 'armed service', 'tutoring'], 'course_audit': ['line', 'course of study', 'path', 'flow', 'feed', 'course of instruction', 'audit', 'of course', 'audited account', 'track', 'trend', 'course', 'class', 'run', 'grade', 'inspect', 'naturally', 'scrutinise', 'scrutinize', 'course of action', 'form', 'row'], 'study_abroad': ['field', 'examine', 'abroad', 'discipline', 'subject field', 'analyse', 'hit the books', 'subject area', 'subject', 'meditate', 'read', 'canvas', 'overseas', 'survey', 'written report', 'learn', 'canvass', 'take', 'sketch', 'bailiwick', 'afield', 'analyze', 'report', 'study', 'consider', 'field of study', 'work', 'contemplate', 'cogitation'], 'student_privacy': ['scholar', 'scholarly person', 'student', 'concealment', 'privacy', 'seclusion', 'bookman', 'pupil', 'educatee', 'privateness', 'secrecy'], 'technology_resources': ['engineering science', 'resources', 'resourcefulness', 'engineering', 'resource', 'applied science', 'technology', 'imagination'], 'makeup_exams': ['test', 'physical composition', 'exams', 'examination', 'constitution', 'war paint', 'exam', 'makeup', 'make-up', 'composition'], 'workshops_seminars': ['workshops', 'seminar', 'seminars', 'shop', 'workshop'], 'change_major': ['john major', 'modify', 'vary', 'switch', 'change', 'transfer', 'alteration', 'shift', 'commute', 'john r. major', 'interchange', 'modification', 'convert', 'deepen', 'alter', 'john roy major', 'variety', 'major', 'exchange'], 'evening_study_spaces': ['field', 'examine', 'eventide', 'discipline', 'subject field', 'analyse', 'hit the books', 'subject area', 'subject', 'meditate', 'read', 'quad', 'blank space', 'blank', 'written report', 'survey', 'canvas', 'learn', 'evening', 'distance', 'canvass', 'flush', 'spaces', 'outer space', 'level', 'sketch', 'take', 'bailiwick', 'infinite', 'analyze', 'even', 'report', 'eve', 'space', 'study', 'consider', 'field of study', 'work', 'contemplate', 'cogitation', 'even out', 'place'], 'student_loans': ['loanword', 'scholar', 'scholarly person', 'student', 'bookman', 'loan', 'pupil', 'educatee', 'lend', 'loans'], 'alumni_services': ['inspection and repair', 'alumna', 'graduate', 'service of process', 'table service', 'avail', 'service', 'overhaul', 'services', 'alumnus', 'divine service', 'alumni', 'serving', 'help', 'military service', 'grad', 'armed service', 'alum', 'robert william service', 'religious service', 'serve', 'servicing'], 'campus_safety': ['refuge', 'safe', 'guard', 'campus', 'rubber', 'safety', 'base hit', 'safety device', 'condom', 'prophylactic'], 'resume_help': ['cv', 'supporter', 'facilitate', 'restart', 'help oneself', 'take up', 'summarise', 'summarize', 'avail', 'service', 'helper', 'survey', 'aid', 'sum up', 'assistant', 'help', 're-start', 'sketch', 'assist', 'resume', 'curriculum vitae', 'assistance', 'serve'], 'academic_awards': ['honor', 'accolade', 'award', 'pedantic', 'prize', 'present', 'awarding', 'academic', 'honour', 'faculty member', 'awards', 'laurels', 'grant', 'academician', 'donnish'], 'withdrawal_procedure': ['detachment', 'procedure', 'onanism', 'coitus interruptus', 'routine', 'backdown', 'secession', 'function', 'climb-down', 'withdrawal method', 'drug withdrawal', 'withdrawal', 'subroutine', 'process', 'operation', 'pulling out', 'subprogram'], 'course_evaluations': ['valuation', 'line', 'course of study', 'evaluations', 'path', 'flow', 'feed', 'course of instruction', 'of course', 'track', 'trend', 'course', 'class', 'run', 'grade', 'naturally', 'rating', 'course of action', 'form', 'row', 'evaluation'], 'veteran_support': ['affirm', 'plump for', 'stager', 'livelihood', 'keep', 'reinforcement', 'underpin', 'keep going', 'endure', 'seasoned', 'sustenance', 'back', 'supporting', 'old-timer', 'patronage', 'reenforcement', 'confirm', 'stick out', 'back up', 'financial support', 'corroborate', 'stand', 'old stager', 'stomach', 'tolerate', 'suffer', 'bear out', 'veteran soldier', 'support', 'put up', 'sustain', 'oldtimer', 'fend for', 'plunk for', 'veteran', 'patronise', 'documentation', 'subscribe', 'bread and butter', 'endorse', 'substantiate', 'ex-serviceman', 'bear', 'accompaniment', 'defend', 'indorse', 'old hand', 'musical accompaniment', 'digest', 'funding', 'living', 'vet', 'financial backing', 'backup', 'hold up', 'abide', 'backing', 'warhorse', 'patronize', 'brook', 'hold'], 'student_feedback': ['scholar', 'scholarly person', 'student', 'bookman', 'pupil', 'educatee', 'feedback'], 'visa_extension': ['university extension', 'extension', 'denotation', 'prolongation', 'annexe', 'elongation', 'reference', 'annex', 'file name extension', 'visa', 'extension phone', 'propagation', 'telephone extension', 'extension service', 'wing', 'filename extension', 'lengthiness'], 'parking_permits': ['park', 'licence', 'tolerate', 'permission', 'permits', 'allow', 'license', 'trachinotus falcatus', 'countenance', 'permit', 'parking', 'let'], 'harassment_reporting': ['harassment', 'describe', 'molestation', 'account', 'coverage', 'torment', 'reporting', 'report', 'cover', 'reportage'], 'campus_facilities': ['facility', 'installation', 'adeptness', 'adroitness', 'campus', 'quickness', 'deftness', 'readiness', 'facilities'], 'transcript_request': ['petition', 'transcript', 'bespeak', 'copy', 'request', 'postulation', 'call for', 'asking', 'quest'], 'student_employment': ['engagement', 'scholar', 'employ', 'scholarly person', 'usage', 'use', 'student', 'bookman', 'utilization', 'work', 'utilisation', 'pupil', 'educatee', 'employment', 'exercise'], 'visa_interview': ['consultation', 'question', 'audience', 'interview', 'visa'], 'academic_calendar': ['pedantic', 'academic', 'calendar', 'faculty member', 'academician', 'donnish'], 'id_replacement': ['replacing', 'idaho', 'transposition', 'i.d.', 'replacement', 'gem state', 'replenishment', 'surrogate', 'renewal', 'permutation', 'alternate', 'switch', 'refilling', 'substitution', 'substitute', 'id', 'successor'], 'campus_events': ['issue', 'upshot', 'result', 'events', 'campus', 'effect', 'event', 'outcome', 'case', 'consequence'], 'transcript_evaluation': ['transcript', 'valuation', 'copy', 'rating', 'evaluation'], 'health_insurance': ['health', 'policy', 'indemnity', 'insurance policy', 'insurance', 'wellness'], 'parking_permit_application': ['diligence', 'permission', 'countenance', 'coating', 'lotion', 'park', 'tolerate', 'allow', 'license', 'applications programme', 'permit', 'application program', 'let', 'application', 'practical application', 'trachinotus falcatus', 'licence', 'covering', 'parking'], 'advising_appointments': ['propose', 'naming', 'engagement', 'counsel', 'advising', 'assignment', 'appointment', 'suggest', 'send word', 'appointments', 'date', 'appointee', 'notify', 'fitting', 'designation', 'advise', 'apprise', 'rede', 'give notice', 'apprize'], 'study_permit_application': ['field', 'examine', 'diligence', 'permission', 'countenance', 'discipline', 'subject field', 'coating', 'analyse', 'hit the books', 'subject area', 'lotion', 'subject', 'meditate', 'tolerate', 'read', 'allow', 'license', 'applications programme', 'permit', 'application program', 'canvas', 'written report', 'survey', 'let', 'learn', 'application', 'practical application', 'canvass', 'trachinotus falcatus', 'take', 'sketch', 'bailiwick', 'licence', 'analyze', 'covering', 'report', 'study', 'consider', 'field of study', 'work', 'contemplate', 'cogitation'], 'conduct_hearings': ['hearings', 'carry', 'listening', 'demeanour', 'behavior', 'lead', 'hearing', 'earshot', 'carry on', 'behaviour', 'deal', 'sense of hearing', 'channel', 'guide', 'demeanor', 'audition', 'acquit', 'deport', 'earreach', 'bear', 'take', 'auditory sense', 'impart', 'audience', 'conduct', 'behave', 'doings', 'deportment', 'auditory modality', 'direct', 'convey', 'transmit', 'comport'], 'transcript_correction': ['transcript', 'chastening', 'copy', 'rectification', 'discipline', 'correction', 'fudge factor', 'chastisement'], 'organizations_funding': ['organisation', 'arrangement', 'constitution', 'establishment', 'financial support', 'brass', 'fund', 'support', 'governing body', 'administration', 'formation', 'governance', 'system', 'organization', 'funding', 'financial backing', 'organizations', 'financing', 'backing'], 'graduation_ceremony_application': ['ceremonial', 'application', 'observance', 'practical application', 'diligence', 'commencement exercise', 'ceremony', 'commencement ceremony', 'coating', 'commencement', 'covering', 'applications programme', 'graduation exercise', 'ceremonial occasion', 'lotion', 'graduation', 'application program', 'gradation'], 'parking_violations': ['park', 'assault', 'intrusion', 'misdemeanor', 'rape', 'irreverence', 'ravishment', 'encroachment', 'infraction', 'misdemeanour', 'infringement', 'violation', 'parking', 'violations', 'usurpation', 'trespass'], 'visa_renewal': ['reclamation', 'replacement', 'replenishment', 'rehabilitation', 'visa', 'renewal', 'refilling'], 'campus_accessibility': ['handiness', 'accessibility', 'campus', 'availability', 'availableness', 'approachability'], 'exchange_program_application': ['central', 'computer program', 'diligence', 'coating', 'course of study', 'switch', 'change', 'replace', 'lotion', 'substitution', 'rally', 'programme', 'broadcast', 'political platform', 'applications programme', 'commute', 'syllabus', 'application program', 'political program', 'interchange', 'convert', 'application', 'practical application', 'platform', 'program', 'plan', 'switch over', 'telephone exchange', 'covering', 'commutation', 'computer programme', 'curriculum', 'substitute', 'exchange'], 'disciplinary_actions': ['legal action', 'accomplish', 'fulfill', 'activeness', 'fulfil', 'natural process', 'process', 'action at law', 'activity', 'litigate', 'action mechanism', 'disciplinal', 'sue', 'military action', 'disciplinary', 'corrective', 'execute', 'carry through', 'action', 'natural action', 'actions', 'carry out'], 'student_loan_application': ['application', 'scholar', 'loanword', 'scholarly person', 'practical application', 'diligence', 'application program', 'student', 'covering', 'coating', 'applications programme', 'bookman', 'loan', 'pupil', 'educatee', 'lend', 'lotion'], 'housing_contracts': ['abridge', 'lodging', 'caparison', 'get', 'compress', 'press', 'housing', 'abbreviate', 'sign', 'constrict', 'sign up', 'narrow', 'shorten', 'put up', 'contract bridge', 'declaration', 'house', 'compact', 'trapping', 'condense', 'cut', 'concentrate', 'foreshorten', 'living accommodations', 'sign on', 'undertake', 'take', 'contracts', 'squeeze', 'domiciliate', 'contract', 'shrink', 'reduce'], 'student_id_application': ['application', 'idaho', 'scholar', 'i.d.', 'scholarly person', 'practical application', 'diligence', 'application program', 'student', 'gem state', 'coating', 'covering', 'applications programme', 'bookman', 'pupil', 'educatee', 'lotion', 'id'], 'attendance_appeals': ['attending', 'appealingness', 'entreaty', 'prayer', 'charm', 'collection', 'appeal', 'attendance', 'solicitation', 'ingathering', 'attract', 'invoke', 'appeals'], 'student_transcript_application': ['application', 'scholar', 'practical application', 'transcript', 'scholarly person', 'diligence', 'application program', 'copy', 'student', 'covering', 'coating', 'applications programme', 'bookman', 'pupil', 'educatee', 'lotion'], 'probation_appeals': ['appealingness', 'charm', 'entreaty', 'prayer', 'collection', 'appeal', 'solicitation', 'ingathering', 'probation', 'attract', 'invoke', 'appeals'], 'student_visa_application': ['application', 'scholar', 'practical application', 'scholarly person', 'diligence', 'application program', 'student', 'covering', 'coating', 'applications programme', 'bookman', 'visa', 'pupil', 'educatee', 'lotion'], 'academic_dismissal': ['dismission', 'donnish', 'pedantic', 'liberation', 'release', 'pink slip', 'academic', 'sacking', 'dismissal', 'discharge', 'faculty member', 'firing', 'judgment of dismissal', 'sack', 'academician', 'judgement of dismissal'], 'scholarship_application': ['application', 'learning', 'diligence', 'practical application', 'application program', 'scholarship', 'erudition', 'covering', 'coating', 'learnedness', 'applications programme', 'encyclopaedism', 'eruditeness', 'lotion', 'encyclopedism'], 'academic_honors': ['honor', 'accolade', 'award', 'pedantic', 'purity', 'academic', 'honour', 'faculty member', 'reward', 'abide by', 'respect', 'honors', 'laurels', 'observe', 'pureness', 'academician', 'donnish'], 'student_transfer_application': ['diligence', 'student', 'coating', 'change', 'transportation', 'lotion', 'transfer', 'carry-over', 'scholarly person', 'transplant', 'shift', 'reassign', 'applications programme', 'application program', 'channel', 'channelize', 'transmit', 'application', 'transferral', 'practical application', 'transpose', 'pupil', 'transport', 'transference', 'conveyance', 'scholar', 'covering', 'bookman', 'remove', 'educatee', 'transfer of training', 'channelise', 'transferee'], 'academic_appeals': ['pedantic', 'appealingness', 'entreaty', 'prayer', 'charm', 'collection', 'academic', 'appeal', 'solicitation', 'ingathering', 'attract', 'faculty member', 'invoke', 'appeals', 'academician', 'donnish'], 'student_withdrawal_application': ['diligence', 'student', 'coating', 'withdrawal', 'lotion', 'pulling out', 'scholarly person', 'onanism', 'applications programme', 'withdrawal method', 'application program', 'detachment', 'application', 'practical application', 'secession', 'pupil', 'climb-down', 'scholar', 'coitus interruptus', 'covering', 'backdown', 'bookman', 'drug withdrawal', 'educatee']}\n"
     ]
    }
   ],
   "source": [
    "# Model Export\n",
    "if __name__ == \"__main__\":\n",
    "    bot = AdmissionChatbot()    \n",
    "       \n",
    "with open(\"model.dill\", \"wb\") as f:\n",
    "    dill.dump(bot, f)\n",
    "\n"
   ]
  }
 ],
 "metadata": {
  "kernelspec": {
   "display_name": "base",
   "language": "python",
   "name": "python3"
  },
  "language_info": {
   "codemirror_mode": {
    "name": "ipython",
    "version": 3
   },
   "file_extension": ".py",
   "mimetype": "text/x-python",
   "name": "python",
   "nbconvert_exporter": "python",
   "pygments_lexer": "ipython3",
   "version": "3.12.7"
  }
 },
 "nbformat": 4,
 "nbformat_minor": 5
}
